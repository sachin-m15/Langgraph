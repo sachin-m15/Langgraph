{
 "cells": [
  {
   "cell_type": "code",
   "execution_count": 2,
   "id": "5e09bc67",
   "metadata": {},
   "outputs": [],
   "source": [
    "from langgraph.graph import StateGraph, START, END\n",
    "from typing import TypedDict"
   ]
  },
  {
   "cell_type": "code",
   "execution_count": 3,
   "id": "6ebeb6dd",
   "metadata": {},
   "outputs": [],
   "source": [
    "class QuadraticEquationState(TypedDict):\n",
    "    a: int\n",
    "    b: int\n",
    "    c: int\n",
    "    \n",
    "    discriminant: float\n",
    "    equation: str\n",
    "    roots: str"
   ]
  },
  {
   "cell_type": "code",
   "execution_count": 4,
   "id": "9b367b60",
   "metadata": {},
   "outputs": [],
   "source": [
    "def show_equation(state: QuadraticEquationState) -> QuadraticEquationState:\n",
    "    equation = f\"{state['a']}x^2 + {state['b']}x + {state['c']} = 0\"\n",
    "    return {'equation':equation}\n",
    "\n",
    "def calculate_discriminant(state: QuadraticEquationState) -> QuadraticEquationState:\n",
    "    descriminant = state['b']**2 - 4 * state['a'] * state['c']\n",
    "    return {'discriminant': descriminant}\n",
    "\n",
    "def real_roots(state: QuadraticEquationState) -> QuadraticEquationState:\n",
    "    \n",
    "    root1 = (-state['b'] + state['discriminant']**0.5) / (2 * state['a'])\n",
    "    root2 = (-state['b'] - state['discriminant']**0.5) / (2 * state['a'])\n",
    "    roots = f\"Roots are {root1} and {root2}\"\n",
    "    return {'roots': roots}\n",
    "\n",
    "def equal_roots(state: QuadraticEquationState) -> QuadraticEquationState:\n",
    "    \n",
    "    root = -state['b'] / (2 * state['a'])\n",
    "    roots = f\"Both roots are equal and the value is {root}\"\n",
    "    return {'roots': roots}\n",
    "\n",
    "def no_real_roots(state: QuadraticEquationState) -> QuadraticEquationState:\n",
    "    roots = \"No real roots exist for this equation\"\n",
    "    return {'roots': roots}"
   ]
  },
  {
   "cell_type": "code",
   "execution_count": 5,
   "id": "e46908bc",
   "metadata": {},
   "outputs": [],
   "source": [
    "def check_discriminant(state: QuadraticEquationState) -> QuadraticEquationState:\n",
    "    if state['discriminant'] > 0:\n",
    "        return 'real_roots'\n",
    "    elif state['discriminant'] == 0:\n",
    "        return 'equal_roots'\n",
    "    else:\n",
    "        return 'no_real_roots'"
   ]
  },
  {
   "cell_type": "code",
   "execution_count": 6,
   "id": "288e85e7",
   "metadata": {},
   "outputs": [],
   "source": [
    "graph = StateGraph(QuadraticEquationState)\n",
    "\n",
    "graph.add_node('show_equation', show_equation)\n",
    "graph.add_node('calculate_discriminant', calculate_discriminant)\n",
    "graph.add_node('real_roots',real_roots)\n",
    "graph.add_node('equal_roots', equal_roots)\n",
    "graph.add_node('no_real_roots', no_real_roots)\n",
    "\n",
    "\n",
    "\n",
    "graph.add_edge(START, 'show_equation')\n",
    "graph.add_edge('show_equation', 'calculate_discriminant')\n",
    "\n",
    "graph.add_conditional_edges('calculate_discriminant', check_discriminant)\n",
    "graph.add_edge('real_roots', END)\n",
    "graph.add_edge('equal_roots', END)\n",
    "graph.add_edge('no_real_roots', END)\n",
    "\n",
    "workflow = graph.compile()"
   ]
  },
  {
   "cell_type": "code",
   "execution_count": 7,
   "id": "380ef2d9",
   "metadata": {},
   "outputs": [
    {
     "data": {
      "image/png": "[encoded data removed]",
      "text/plain": [
       "<IPython.core.display.Image object>"
      ]
     },
     "execution_count": 7,
     "metadata": {},
     "output_type": "execute_result"
    }
   ],
   "source": [
    "from IPython.display import display, Markdown,Image\n",
    "Image(workflow.get_graph().draw_mermaid_png())"
   ]
  },
  {
   "cell_type": "code",
   "execution_count": 8,
   "id": "5a5c9769",
   "metadata": {},
   "outputs": [
    {
     "data": {
      "text/plain": [
       "{'a': 4,\n",
       " 'b': -5,\n",
       " 'c': -4,\n",
       " 'discriminant': 89,\n",
       " 'equation': '4x^2 + -5x + -4 = 0',\n",
       " 'roots': 'Roots are 1.8042476415070754 and -0.5542476415070754'}"
      ]
     },
     "execution_count": 8,
     "metadata": {},
     "output_type": "execute_result"
    }
   ],
   "source": [
    "intial_state = {'a':4, 'b':-5, 'c':-4}\n",
    "workflow.invoke(intial_state)"
   ]
  },
  {
   "cell_type": "code",
   "execution_count": null,
   "id": "b73686d1",
   "metadata": {},
   "outputs": [],
   "source": []
  }
 ],
 "metadata": {
  "kernelspec": {
   "display_name": "myenv",
   "language": "python",
   "name": "python3"
  },
  "language_info": {
   "codemirror_mode": {
    "name": "ipython",
    "version": 3
   },
   "file_extension": ".py",
   "mimetype": "text/x-python",
   "name": "python",
   "nbconvert_exporter": "python",
   "pygments_lexer": "ipython3",
   "version": "3.9.23"
  }
 },
 "nbformat": 4,
 "nbformat_minor": 5
}
