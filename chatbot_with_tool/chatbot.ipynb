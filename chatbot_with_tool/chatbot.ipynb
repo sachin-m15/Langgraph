{
 "cells": [
  {
   "cell_type": "markdown",
   "id": "2c0f931c",
   "metadata": {},
   "source": [
    "### Model"
   ]
  },
  {
   "cell_type": "code",
   "execution_count": 24,
   "id": "bdee167c",
   "metadata": {},
   "outputs": [],
   "source": [
    "import os\n",
    "from dotenv import load_dotenv\n",
    "load_dotenv()\n",
    "\n",
    "from langchain_groq import ChatGroq\n",
    "\n",
    "model = ChatGroq(model=\"llama3-8b-8192\")"
   ]
  },
  {
   "cell_type": "markdown",
   "id": "4c290e59",
   "metadata": {},
   "source": [
    "### Graph\n"
   ]
  },
  {
   "cell_type": "code",
   "execution_count": 25,
   "id": "4113ff0d",
   "metadata": {},
   "outputs": [],
   "source": [
    "from langgraph.graph import StateGraph,START,END\n",
    "from typing import TypedDict, Annotated\n",
    "from langchain_core.messages import BaseMessage\n",
    "from langchain.schema import HumanMessage\n",
    "from langgraph.checkpoint.memory import MemorySaver"
   ]
  },
  {
   "cell_type": "code",
   "execution_count": 26,
   "id": "19270601",
   "metadata": {},
   "outputs": [],
   "source": [
    "from langgraph.graph.message import add_messages\n",
    "\n",
    "class ChatState(TypedDict):\n",
    "    messages: Annotated[list[BaseMessage],add_messages]\n"
   ]
  },
  {
   "cell_type": "code",
   "execution_count": 27,
   "id": "c181a2ef",
   "metadata": {},
   "outputs": [],
   "source": [
    "def chat_node(state: ChatState):\n",
    "\n",
    "    # take user query from state\n",
    "    messages = state['messages']\n",
    "\n",
    "    # send to llm\n",
    "    response = model.invoke(messages)\n",
    "\n",
    "    # response store state\n",
    "    return {'messages': [response]}"
   ]
  },
  {
   "cell_type": "code",
   "execution_count": 28,
   "id": "9ed7c750",
   "metadata": {},
   "outputs": [
    {
     "data": {
      "image/png": "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",
      "text/plain": [
       "<langgraph.graph.state.CompiledStateGraph object at 0x7190bd4b7160>"
      ]
     },
     "execution_count": 28,
     "metadata": {},
     "output_type": "execute_result"
    }
   ],
   "source": [
    "checkpointer = MemorySaver()\n",
    "\n",
    "graph = StateGraph(ChatState)\n",
    "\n",
    "graph.add_node('chat_node', chat_node)\n",
    "\n",
    "graph.add_edge(START,'chat_node')\n",
    "graph.add_edge('chat_node', END)\n",
    "\n",
    "chat_bot = graph.compile(checkpointer = checkpointer)\n",
    "chat_bot"
   ]
  },
  {
   "cell_type": "code",
   "execution_count": 29,
   "id": "1e971dcb",
   "metadata": {},
   "outputs": [],
   "source": [
    "#initial_state = {\n",
    "#    'messages': [HumanMessage(content=\"capital of India?\")],\n",
    "#}\n",
    "\n",
    "#chat_bot.invoke(initial_state)\n"
   ]
  },
  {
   "cell_type": "code",
   "execution_count": 30,
   "id": "aab7916a",
   "metadata": {},
   "outputs": [
    {
     "name": "stdout",
     "output_type": "stream",
     "text": [
      "User: hii\n",
      "AI: Hii! How are you doing today?\n",
      "User: quit\n",
      "AI: Goodbye!\n"
     ]
    }
   ],
   "source": [
    "#for memory and user input\n",
    "thread_id = '1'\n",
    "\n",
    "while True:\n",
    "    user_message = input(\"Type Here: \")\n",
    "    print(\"User:\", user_message)\n",
    "\n",
    "    if user_message.strip().lower() in ['exit', 'quit', 'bye']:\n",
    "        print(\"AI: Goodbye!\")\n",
    "        break\n",
    "    \n",
    "    config = {'configurable':{'thread_id': thread_id}}\n",
    "    \n",
    "    response = chat_bot.invoke({\"messages\": [HumanMessage(content=user_message)]},config=config)\n",
    "    print(\"AI:\", response[\"messages\"][-1].content)\n"
   ]
  },
  {
   "cell_type": "code",
   "execution_count": 31,
   "id": "06b5457f",
   "metadata": {},
   "outputs": [
    {
     "name": "stdout",
     "output_type": "stream",
     "text": [
      "StateSnapshot(values={'messages': [HumanMessage(content='hii', additional_kwargs={}, response_metadata={}, id='4bf6a9d8-cdb2-4277-a517-8c377bd76a1a'), AIMessage(content='Hii! How are you doing today?', additional_kwargs={}, response_metadata={'token_usage': {'completion_tokens': 10, 'prompt_tokens': 12, 'total_tokens': 22, 'completion_time': 0.008253379, 'prompt_time': 0.001995413, 'queue_time': 0.263262904, 'total_time': 0.010248792}, 'model_name': 'llama3-8b-8192', 'system_fingerprint': 'fp_c0b3855449', 'service_tier': 'on_demand', 'finish_reason': 'stop', 'logprobs': None}, id='run--bbe1bc6b-f887-48f7-a711-572b8dfa35c7-0', usage_metadata={'input_tokens': 12, 'output_tokens': 10, 'total_tokens': 22})]}, next=(), config={'configurable': {'thread_id': '1', 'checkpoint_ns': '', 'checkpoint_id': '1f079489-ba9c-6786-8001-8c53799fb7a2'}}, metadata={'source': 'loop', 'step': 1, 'parents': {}}, created_at='2025-08-14T19:55:20.468657+00:00', parent_config={'configurable': {'thread_id': '1', 'checkpoint_ns': '', 'checkpoint_id': '1f079489-b6f9-6792-8000-92017fccf994'}}, tasks=(), interrupts=())\n"
     ]
    }
   ],
   "source": [
    "memory = chat_bot.get_state(config=config)\n",
    "print(memory)"
   ]
  },
  {
   "cell_type": "markdown",
   "id": "3db3ac18",
   "metadata": {},
   "source": [
    "## Adding tools"
   ]
  },
  {
   "cell_type": "code",
   "execution_count": 38,
   "id": "0f71e7fe",
   "metadata": {},
   "outputs": [],
   "source": [
    "from langchain_tavily import TavilySearch\n",
    "#Used for real time informations\n",
    "\n",
    "tool = TavilySearch(max_result=2, tavily_api_key=\"your Api key")\n",
    "#tool.invoke(\"what is ML\")"
   ]
  },
  {
   "cell_type": "code",
   "execution_count": 39,
   "id": "dfc1e1f1",
   "metadata": {},
   "outputs": [],
   "source": [
    "## Custom function\n",
    "def multiply(a:int,b:int)->int:\n",
    "    \"\"\"Multiply a and b\n",
    "\n",
    "    Args:\n",
    "        a (int): first int\n",
    "        b (int): second int\n",
    "\n",
    "    Returns:\n",
    "        int: output int\n",
    "    \"\"\"\n",
    "    return a*b"
   ]
  },
  {
   "cell_type": "code",
   "execution_count": 41,
   "id": "2a312b80",
   "metadata": {},
   "outputs": [],
   "source": [
    "#Binding multiple tools together\n",
    "tools = [tool,multiply]\n",
    "\n",
    "#Binding the tools with llm model\n",
    "llm_with_tool = model.bind_tools(tools) "
   ]
  },
  {
   "cell_type": "code",
   "execution_count": 43,
   "id": "705de919",
   "metadata": {},
   "outputs": [
    {
     "data": {
      "image/png": "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",
      "text/plain": [
       "<IPython.core.display.Image object>"
      ]
     },
     "metadata": {},
     "output_type": "display_data"
    }
   ],
   "source": [
    "from langgraph.prebuilt import ToolNode\n",
    "from langgraph.prebuilt import tools_condition\n",
    "\n",
    "## Node definition\n",
    "def tool_calling_llm(state:ChatState):\n",
    "    return {\"messages\":[llm_with_tool.invoke(state[\"messages\"])]}\n",
    "\n",
    "## Grpah\n",
    "builder=StateGraph(ChatState)\n",
    "builder.add_node(\"tool_calling_llm\",tool_calling_llm)\n",
    "builder.add_node(\"tools\",ToolNode(tools))\n",
    "\n",
    "## Add Edges\n",
    "builder.add_edge(START, \"tool_calling_llm\")\n",
    "builder.add_conditional_edges(\"tool_calling_llm\",tools_condition)  \n",
    "# If the latest message (result) from assistant is a tool call -> tools_condition routes to tools\n",
    "# If the latest message (result) from assistant is a not a tool call -> tools_condition routes to END\n",
    "builder.add_edge(\"tools\",END)\n",
    "\n",
    "## compile the graph\n",
    "graph=builder.compile()\n",
    "\n",
    "from IPython.display import Image, display\n",
    "display(Image(graph.get_graph().draw_mermaid_png()))"
   ]
  },
  {
   "cell_type": "code",
   "execution_count": 46,
   "id": "97414c95",
   "metadata": {},
   "outputs": [
    {
     "name": "stdout",
     "output_type": "stream",
     "text": [
      "User: quit\n",
      "AI: Goodbye!\n"
     ]
    }
   ],
   "source": [
    "thread_id = '2'\n",
    "\n",
    "while True:\n",
    "    user_message = input(\"Type Here: \")\n",
    "    print(\"User:\", user_message)\n",
    "\n",
    "    if user_message.strip().lower() in ['exit', 'quit', 'bye']:\n",
    "        print(\"AI: Goodbye!\")\n",
    "        break\n",
    "    \n",
    "    config = {'configurable':{'thread_id': thread_id}}\n",
    "    \n",
    "    response = chat_bot.invoke({\"messages\": [HumanMessage(content=user_message)]},config=config)\n",
    "    print(\"AI:\", response[\"messages\"][-1].content)\n"
   ]
  },
  {
   "cell_type": "markdown",
   "id": "22ed4f15",
   "metadata": {},
   "source": [
    "## Reacting Agent"
   ]
  },
  {
   "cell_type": "code",
   "execution_count": 47,
   "id": "922ffe80",
   "metadata": {},
   "outputs": [
    {
     "data": {
      "image/png": "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",
      "text/plain": [
       "<IPython.core.display.Image object>"
      ]
     },
     "metadata": {},
     "output_type": "display_data"
    }
   ],
   "source": [
    "from langgraph.prebuilt import ToolNode\n",
    "from langgraph.prebuilt import tools_condition\n",
    "\n",
    "## Node definition\n",
    "def tool_calling_llm(state:ChatState):\n",
    "    return {\"messages\":[llm_with_tool.invoke(state[\"messages\"])]}\n",
    "\n",
    "## Grpah\n",
    "builder=StateGraph(ChatState)\n",
    "builder.add_node(\"tool_calling_llm\",tool_calling_llm)\n",
    "builder.add_node(\"tools\",ToolNode(tools))\n",
    "\n",
    "## Add Edges\n",
    "builder.add_edge(START, \"tool_calling_llm\")\n",
    "builder.add_conditional_edges(\"tool_calling_llm\",tools_condition)  \n",
    "# If the latest message (result) from assistant is a tool call -> tools_condition routes to tools\n",
    "# If the latest message (result) from assistant is a not a tool call -> tools_condition routes to END\n",
    "builder.add_edge(\"tools\",\"tool_calling_llm\")\n",
    "\n",
    "## compile the graph\n",
    "graph=builder.compile()\n",
    "\n",
    "from IPython.display import Image, display\n",
    "display(Image(graph.get_graph().draw_mermaid_png()))"
   ]
  },
  {
   "cell_type": "code",
   "execution_count": null,
   "id": "7a32cb5b",
   "metadata": {},
   "outputs": [],
   "source": []
  }
 ],
 "metadata": {
  "kernelspec": {
   "display_name": "myenv",
   "language": "python",
   "name": "python3"
  },
  "language_info": {
   "codemirror_mode": {
    "name": "ipython",
    "version": 3
   },
   "file_extension": ".py",
   "mimetype": "text/x-python",
   "name": "python",
   "nbconvert_exporter": "python",
   "pygments_lexer": "ipython3",
   "version": "3.9.23"
  }
 },
 "nbformat": 4,
 "nbformat_minor": 5
}
